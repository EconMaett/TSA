{
 "cells": [
  {
   "cell_type": "markdown",
   "metadata": {},
   "source": [
    "# Tutorial 1\n",
    "\n",
    "## Basic commands"
   ]
  },
  {
   "cell_type": "code",
   "execution_count": 1,
   "metadata": {},
   "outputs": [
    {
     "data": {
      "text/html": [
       "4"
      ],
      "text/latex": [
       "4"
      ],
      "text/markdown": [
       "4"
      ],
      "text/plain": [
       "[1] 4"
      ]
     },
     "metadata": {},
     "output_type": "display_data"
    },
    {
     "data": {
      "text/html": [
       "27"
      ],
      "text/latex": [
       "27"
      ],
      "text/markdown": [
       "27"
      ],
      "text/plain": [
       "[1] 27"
      ]
     },
     "metadata": {},
     "output_type": "display_data"
    },
    {
     "data": {
      "text/html": [
       "-2"
      ],
      "text/latex": [
       "-2"
      ],
      "text/markdown": [
       "-2"
      ],
      "text/plain": [
       "[1] -2"
      ]
     },
     "metadata": {},
     "output_type": "display_data"
    },
    {
     "data": {
      "text/html": [
       "3.14159265358979"
      ],
      "text/latex": [
       "3.14159265358979"
      ],
      "text/markdown": [
       "3.14159265358979"
      ],
      "text/plain": [
       "[1] 3.141593"
      ]
     },
     "metadata": {},
     "output_type": "display_data"
    },
    {
     "data": {
      "text/html": [
       "1"
      ],
      "text/latex": [
       "1"
      ],
      "text/markdown": [
       "1"
      ],
      "text/plain": [
       "[1] 1"
      ]
     },
     "metadata": {},
     "output_type": "display_data"
    },
    {
     "data": {
      "text/html": [
       "0.135335283236613"
      ],
      "text/latex": [
       "0.135335283236613"
      ],
      "text/markdown": [
       "0.135335283236613"
      ],
      "text/plain": [
       "[1] 0.1353353"
      ]
     },
     "metadata": {},
     "output_type": "display_data"
    },
    {
     "data": {
      "text/html": [
       "2.82842712474619"
      ],
      "text/latex": [
       "2.82842712474619"
      ],
      "text/markdown": [
       "2.82842712474619"
      ],
      "text/plain": [
       "[1] 2.828427"
      ]
     },
     "metadata": {},
     "output_type": "display_data"
    },
    {
     "data": {
      "text/html": [
       "<style>\n",
       ".list-inline {list-style: none; margin:0; padding: 0}\n",
       ".list-inline>li {display: inline-block}\n",
       ".list-inline>li:not(:last-child)::after {content: \"\\00b7\"; padding: 0 .5ex}\n",
       "</style>\n",
       "<ol class=list-inline><li>1</li><li>2</li><li>3</li><li>4</li><li>5</li></ol>\n"
      ],
      "text/latex": [
       "\\begin{enumerate*}\n",
       "\\item 1\n",
       "\\item 2\n",
       "\\item 3\n",
       "\\item 4\n",
       "\\item 5\n",
       "\\end{enumerate*}\n"
      ],
      "text/markdown": [
       "1. 1\n",
       "2. 2\n",
       "3. 3\n",
       "4. 4\n",
       "5. 5\n",
       "\n",
       "\n"
      ],
      "text/plain": [
       "[1] 1 2 3 4 5"
      ]
     },
     "metadata": {},
     "output_type": "display_data"
    },
    {
     "data": {
      "text/html": [
       "<style>\n",
       ".list-inline {list-style: none; margin:0; padding: 0}\n",
       ".list-inline>li {display: inline-block}\n",
       ".list-inline>li:not(:last-child)::after {content: \"\\00b7\"; padding: 0 .5ex}\n",
       "</style>\n",
       "<ol class=list-inline><li>1</li><li>3</li><li>5</li><li>7</li><li>9</li></ol>\n"
      ],
      "text/latex": [
       "\\begin{enumerate*}\n",
       "\\item 1\n",
       "\\item 3\n",
       "\\item 5\n",
       "\\item 7\n",
       "\\item 9\n",
       "\\end{enumerate*}\n"
      ],
      "text/markdown": [
       "1. 1\n",
       "2. 3\n",
       "3. 5\n",
       "4. 7\n",
       "5. 9\n",
       "\n",
       "\n"
      ],
      "text/plain": [
       "[1] 1 3 5 7 9"
      ]
     },
     "metadata": {},
     "output_type": "display_data"
    },
    {
     "data": {
      "text/html": [
       "<style>\n",
       ".list-inline {list-style: none; margin:0; padding: 0}\n",
       ".list-inline>li {display: inline-block}\n",
       ".list-inline>li:not(:last-child)::after {content: \"\\00b7\"; padding: 0 .5ex}\n",
       "</style>\n",
       "<ol class=list-inline><li>2</li><li>2</li><li>2</li></ol>\n"
      ],
      "text/latex": [
       "\\begin{enumerate*}\n",
       "\\item 2\n",
       "\\item 2\n",
       "\\item 2\n",
       "\\end{enumerate*}\n"
      ],
      "text/markdown": [
       "1. 2\n",
       "2. 2\n",
       "3. 2\n",
       "\n",
       "\n"
      ],
      "text/plain": [
       "[1] 2 2 2"
      ]
     },
     "metadata": {},
     "output_type": "display_data"
    }
   ],
   "source": [
    "2 + 2  # addition\n",
    "5 * 5 + 2  # multiplication and addition\n",
    "5 / 5 - 3  # division and subtraction\n",
    "log(exp(pi))  # log, exponential, pi\n",
    "sin(pi / 2)  # sinusoids\n",
    "exp(1) ^ (-2)  # power\n",
    "sqrt(8)  # square root\n",
    "1:5  # sequences\n",
    "seq(1, 10, by = 2)  # sequences\n",
    "rep(2, 3)  # repeat 2 three times"
   ]
  },
  {
   "cell_type": "markdown",
   "metadata": {},
   "source": [
    "**Next, we'll use assignment to make some objects:**"
   ]
  },
  {
   "cell_type": "code",
   "execution_count": 2,
   "metadata": {},
   "outputs": [
    {
     "data": {
      "text/html": [
       "3"
      ],
      "text/latex": [
       "3"
      ],
      "text/markdown": [
       "3"
      ],
      "text/plain": [
       "[1] 3"
      ]
     },
     "metadata": {},
     "output_type": "display_data"
    },
    {
     "data": {
      "text/html": [
       "<style>\n",
       ".list-inline {list-style: none; margin:0; padding: 0}\n",
       ".list-inline>li {display: inline-block}\n",
       ".list-inline>li:not(:last-child)::after {content: \"\\00b7\"; padding: 0 .5ex}\n",
       "</style>\n",
       "<ol class=list-inline><li>0.687856510757515</li><li>-0.387042505086267</li><li>-0.431848391891926</li><li>0.825314003018146</li><li>2.58643396723905</li></ol>\n"
      ],
      "text/latex": [
       "\\begin{enumerate*}\n",
       "\\item 0.687856510757515\n",
       "\\item -0.387042505086267\n",
       "\\item -0.431848391891926\n",
       "\\item 0.825314003018146\n",
       "\\item 2.58643396723905\n",
       "\\end{enumerate*}\n"
      ],
      "text/markdown": [
       "1. 0.687856510757515\n",
       "2. -0.387042505086267\n",
       "3. -0.431848391891926\n",
       "4. 0.825314003018146\n",
       "5. 2.58643396723905\n",
       "\n",
       "\n"
      ],
      "text/plain": [
       "[1]  0.6878565 -0.3870425 -0.4318484  0.8253140  2.5864340"
      ]
     },
     "metadata": {},
     "output_type": "display_data"
    }
   ],
   "source": [
    "x <- 1 + 2  # put 1 + 2 in object x\n",
    "x = 1 + 2  # same as above with fewer keystrokes\n",
    "1 + 2 -> x  # same\n",
    "x  # view object x\n",
    "(z = rnorm(5, 0, 1))  # put 5 standard normals into z and print z"
   ]
  },
  {
   "cell_type": "markdown",
   "metadata": {},
   "source": [
    "**To list your objects, remove objects, get help, find out which directory is current (or to change it) or to quit, use the following commands:**"
   ]
  },
  {
   "cell_type": "code",
   "execution_count": 3,
   "metadata": {},
   "outputs": [
    {
     "data": {
      "text/html": [
       "<style>\n",
       ".list-inline {list-style: none; margin:0; padding: 0}\n",
       ".list-inline>li {display: inline-block}\n",
       ".list-inline>li:not(:last-child)::after {content: \"\\00b7\"; padding: 0 .5ex}\n",
       "</style>\n",
       "<ol class=list-inline><li>'x'</li><li>'z'</li></ol>\n"
      ],
      "text/latex": [
       "\\begin{enumerate*}\n",
       "\\item 'x'\n",
       "\\item 'z'\n",
       "\\end{enumerate*}\n"
      ],
      "text/markdown": [
       "1. 'x'\n",
       "2. 'z'\n",
       "\n",
       "\n"
      ],
      "text/plain": [
       "[1] \"x\" \"z\""
      ]
     },
     "metadata": {},
     "output_type": "display_data"
    },
    {
     "data": {
      "text/html": [
       "'/home/kevin/git/tsm/ts-1-tut/T1-intro-R'"
      ],
      "text/latex": [
       "'/home/kevin/git/tsm/ts-1-tut/T1-intro-R'"
      ],
      "text/markdown": [
       "'/home/kevin/git/tsm/ts-1-tut/T1-intro-R'"
      ],
      "text/plain": [
       "[1] \"/home/kevin/git/tsm/ts-1-tut/T1-intro-R\""
      ]
     },
     "metadata": {},
     "output_type": "display_data"
    },
    {
     "data": {
      "text/html": [
       "\n",
       "<table width=\"100%\" summary=\"page for log {base}\"><tr><td>log {base}</td><td style=\"text-align: right;\">R Documentation</td></tr></table>\n",
       "\n",
       "<h2>Logarithms and Exponentials</h2>\n",
       "\n",
       "<h3>Description</h3>\n",
       "\n",
       "<p><code>log</code> computes logarithms, by default natural logarithms,\n",
       "<code>log10</code> computes common (i.e., base 10) logarithms, and\n",
       "<code>log2</code> computes binary (i.e., base 2) logarithms.\n",
       "The general form <code>log(x, base)</code> computes logarithms with base\n",
       "<code>base</code>.\n",
       "</p>\n",
       "<p><code>log1p(x)</code> computes <i>log(1+x)</i> accurately also for\n",
       "<i>|x| &lt;&lt; 1</i>.\n",
       "</p>\n",
       "<p><code>exp</code> computes the exponential function.\n",
       "</p>\n",
       "<p><code>expm1(x)</code> computes <i>exp(x) - 1</i> accurately also for\n",
       "<i>|x| &lt;&lt; 1</i>.\n",
       "</p>\n",
       "\n",
       "\n",
       "<h3>Usage</h3>\n",
       "\n",
       "<pre>\n",
       "log(x, base = exp(1))\n",
       "logb(x, base = exp(1))\n",
       "log10(x)\n",
       "log2(x)\n",
       "\n",
       "log1p(x)\n",
       "\n",
       "exp(x)\n",
       "expm1(x)\n",
       "</pre>\n",
       "\n",
       "\n",
       "<h3>Arguments</h3>\n",
       "\n",
       "<table summary=\"R argblock\">\n",
       "<tr valign=\"top\"><td><code>x</code></td>\n",
       "<td>\n",
       "<p>a numeric or complex vector.</p>\n",
       "</td></tr>\n",
       "<tr valign=\"top\"><td><code>base</code></td>\n",
       "<td>\n",
       "<p>a positive or complex number: the base with respect to which\n",
       "logarithms are computed.  Defaults to <i>e</i>=<code>exp(1)</code>.</p>\n",
       "</td></tr>\n",
       "</table>\n",
       "\n",
       "\n",
       "<h3>Details</h3>\n",
       "\n",
       "<p>All except <code>logb</code> are generic functions: methods can be defined\n",
       "for them individually or via the <code>Math</code>\n",
       "group generic.\n",
       "</p>\n",
       "<p><code>log10</code> and <code>log2</code> are only convenience wrappers, but logs\n",
       "to bases 10 and 2 (whether computed <em>via</em> <code>log</code> or the wrappers)\n",
       "will be computed more efficiently and accurately where supported by the OS.\n",
       "Methods can be set for them individually (and otherwise methods for\n",
       "<code>log</code> will be used).\n",
       "</p>\n",
       "<p><code>logb</code> is a wrapper for <code>log</code> for compatibility with S.  If\n",
       "(S3 or S4) methods are set for <code>log</code> they will be dispatched.\n",
       "Do not set S4 methods on <code>logb</code> itself.\n",
       "</p>\n",
       "<p>All except <code>log</code> are primitive functions.\n",
       "</p>\n",
       "\n",
       "\n",
       "<h3>Value</h3>\n",
       "\n",
       "<p>A vector of the same length as <code>x</code> containing the transformed\n",
       "values.  <code>log(0)</code> gives <code>-Inf</code>, and <code>log(x)</code> for\n",
       "negative values of <code>x</code> is <code>NaN</code>.  <code>exp(-Inf)</code> is <code>0</code>.\n",
       "</p>\n",
       "<p>For complex inputs to the log functions, the value is a complex number\n",
       "with imaginary part in the range <i>[-pi, pi]</i>: which\n",
       "end of the range is used might be platform-specific.\n",
       "</p>\n",
       "\n",
       "\n",
       "<h3>S4 methods</h3>\n",
       "\n",
       "<p><code>exp</code>, <code>expm1</code>, <code>log</code>, <code>log10</code>, <code>log2</code> and\n",
       "<code>log1p</code> are S4 generic and are members of the\n",
       "<code>Math</code> group generic.\n",
       "</p>\n",
       "<p>Note that this means that the S4 generic for <code>log</code> has a\n",
       "signature with only one argument, <code>x</code>, but that <code>base</code> can\n",
       "be passed to methods (but will not be used for method selection).  On\n",
       "the other hand, if you only set a method for the <code>Math</code> group\n",
       "generic then <code>base</code> argument of <code>log</code> will be ignored for\n",
       "your class.\n",
       "</p>\n",
       "\n",
       "\n",
       "<h3>Source</h3>\n",
       "\n",
       "<p><code>log1p</code> and <code>expm1</code> may be taken from the operating system,\n",
       "but if not available there then they are based on the Fortran subroutine\n",
       "<code>dlnrel</code> by W. Fullerton of Los Alamos Scientific Laboratory (see\n",
       "<a href=\"http://www.netlib.org/slatec/fnlib/dlnrel.f\">http://www.netlib.org/slatec/fnlib/dlnrel.f</a>) and (for small x) a\n",
       "single Newton step for the solution of <code>log1p(y) = x</code>\n",
       "respectively.\n",
       "</p>\n",
       "\n",
       "\n",
       "<h3>References</h3>\n",
       "\n",
       "<p>Becker, R. A., Chambers, J. M. and Wilks, A. R. (1988)\n",
       "<em>The New S Language</em>.\n",
       "Wadsworth &amp; Brooks/Cole.\n",
       "(for <code>log</code>, <code>log10</code> and <code>exp</code>.)\n",
       "</p>\n",
       "<p>Chambers, J. M. (1998)\n",
       "<em>Programming with Data.  A Guide to the S Language</em>.\n",
       "Springer. (for <code>logb</code>.)\n",
       "</p>\n",
       "\n",
       "\n",
       "<h3>See Also</h3>\n",
       "\n",
       "<p><code>Trig</code>,\n",
       "<code>sqrt</code>,\n",
       "<code>Arithmetic</code>.\n",
       "</p>\n",
       "\n",
       "\n",
       "<h3>Examples</h3>\n",
       "\n",
       "<pre>\n",
       "log(exp(3))\n",
       "log10(1e7) # = 7\n",
       "\n",
       "x &lt;- 10^-(1+2*1:9)\n",
       "cbind(x, log(1+x), log1p(x), exp(x)-1, expm1(x))\n",
       "</pre>\n",
       "\n",
       "<hr /><div style=\"text-align: center;\">[Package <em>base</em> version 4.0.2 ]</div>"
      ],
      "text/latex": [
       "\\inputencoding{utf8}\n",
       "\\HeaderA{log}{Logarithms and Exponentials}{log}\n",
       "\\aliasA{exp}{log}{exp}\n",
       "\\aliasA{expm1}{log}{expm1}\n",
       "\\aliasA{log10}{log}{log10}\n",
       "\\aliasA{log1p}{log}{log1p}\n",
       "\\aliasA{log2}{log}{log2}\n",
       "\\aliasA{logb}{log}{logb}\n",
       "\\keyword{math}{log}\n",
       "%\n",
       "\\begin{Description}\\relax\n",
       "\\code{log} computes logarithms, by default natural logarithms,\n",
       "\\code{log10} computes common (i.e., base 10) logarithms, and\n",
       "\\code{log2} computes binary (i.e., base 2) logarithms.\n",
       "The general form \\code{log(x, base)} computes logarithms with base\n",
       "\\code{base}.\n",
       "\n",
       "\\code{log1p(x)} computes \\eqn{\\log(1+x)}{} accurately also for\n",
       "\\eqn{|x| \\ll 1}{}.\n",
       "\n",
       "\\code{exp} computes the exponential function.\n",
       "\n",
       "\\code{expm1(x)} computes \\eqn{\\exp(x) - 1}{} accurately also for\n",
       "\\eqn{|x| \\ll 1}{}.\n",
       "\\end{Description}\n",
       "%\n",
       "\\begin{Usage}\n",
       "\\begin{verbatim}\n",
       "log(x, base = exp(1))\n",
       "logb(x, base = exp(1))\n",
       "log10(x)\n",
       "log2(x)\n",
       "\n",
       "log1p(x)\n",
       "\n",
       "exp(x)\n",
       "expm1(x)\n",
       "\\end{verbatim}\n",
       "\\end{Usage}\n",
       "%\n",
       "\\begin{Arguments}\n",
       "\\begin{ldescription}\n",
       "\\item[\\code{x}] a numeric or complex vector.\n",
       "\\item[\\code{base}] a positive or complex number: the base with respect to which\n",
       "logarithms are computed.  Defaults to \\eqn{e}{}=\\code{exp(1)}.\n",
       "\n",
       "\\end{ldescription}\n",
       "\\end{Arguments}\n",
       "%\n",
       "\\begin{Details}\\relax\n",
       "All except \\code{logb} are generic functions: methods can be defined\n",
       "for them individually or via the \\code{\\LinkA{Math}{S3groupGeneric}}\n",
       "group generic.\n",
       "\n",
       "\\code{log10} and \\code{log2} are only convenience wrappers, but logs\n",
       "to bases 10 and 2 (whether computed \\emph{via} \\code{log} or the wrappers)\n",
       "will be computed more efficiently and accurately where supported by the OS.\n",
       "Methods can be set for them individually (and otherwise methods for\n",
       "\\code{log} will be used).\n",
       "\n",
       "\\code{logb} is a wrapper for \\code{log} for compatibility with S.  If\n",
       "(S3 or S4) methods are set for \\code{log} they will be dispatched.\n",
       "Do not set S4 methods on \\code{logb} itself.\n",
       "\n",
       "All except \\code{log} are \\LinkA{primitive}{primitive} functions.\n",
       "\\end{Details}\n",
       "%\n",
       "\\begin{Value}\n",
       "A vector of the same length as \\code{x} containing the transformed\n",
       "values.  \\code{log(0)} gives \\code{-Inf}, and \\code{log(x)} for\n",
       "negative values of \\code{x} is \\code{NaN}.  \\code{exp(-Inf)} is \\code{0}.\n",
       "\n",
       "For complex inputs to the log functions, the value is a complex number\n",
       "with imaginary part in the range \\eqn{[-\\pi, \\pi]}{}: which\n",
       "end of the range is used might be platform-specific.\n",
       "\\end{Value}\n",
       "%\n",
       "\\begin{Section}{S4 methods}\n",
       "\\code{exp}, \\code{expm1}, \\code{log}, \\code{log10}, \\code{log2} and\n",
       "\\code{log1p} are S4 generic and are members of the\n",
       "\\code{\\LinkA{Math}{S4groupGeneric}} group generic.\n",
       "\n",
       "Note that this means that the S4 generic for \\code{log} has a\n",
       "signature with only one argument, \\code{x}, but that \\code{base} can\n",
       "be passed to methods (but will not be used for method selection).  On\n",
       "the other hand, if you only set a method for the \\code{Math} group\n",
       "generic then \\code{base} argument of \\code{log} will be ignored for\n",
       "your class.\n",
       "\\end{Section}\n",
       "%\n",
       "\\begin{Source}\\relax\n",
       "\\code{log1p} and \\code{expm1} may be taken from the operating system,\n",
       "but if not available there then they are based on the Fortran subroutine\n",
       "\\code{dlnrel} by W. Fullerton of Los Alamos Scientific Laboratory (see\n",
       "\\url{http://www.netlib.org/slatec/fnlib/dlnrel.f}) and (for small x) a\n",
       "single Newton step for the solution of \\code{log1p(y) = x}\n",
       "respectively.\n",
       "\\end{Source}\n",
       "%\n",
       "\\begin{References}\\relax\n",
       "Becker, R. A., Chambers, J. M. and Wilks, A. R. (1988)\n",
       "\\emph{The New S Language}.\n",
       "Wadsworth \\& Brooks/Cole.\n",
       "(for \\code{log}, \\code{log10} and \\code{exp}.)\n",
       "\n",
       "Chambers, J. M. (1998)\n",
       "\\emph{Programming with Data.  A Guide to the S Language}.\n",
       "Springer. (for \\code{logb}.)\n",
       "\\end{References}\n",
       "%\n",
       "\\begin{SeeAlso}\\relax\n",
       "\\code{\\LinkA{Trig}{Trig}},\n",
       "\\code{\\LinkA{sqrt}{sqrt}},\n",
       "\\code{\\LinkA{Arithmetic}{Arithmetic}}.\n",
       "\\end{SeeAlso}\n",
       "%\n",
       "\\begin{Examples}\n",
       "\\begin{ExampleCode}\n",
       "log(exp(3))\n",
       "log10(1e7) # = 7\n",
       "\n",
       "x <- 10^-(1+2*1:9)\n",
       "cbind(x, log(1+x), log1p(x), exp(x)-1, expm1(x))\n",
       "\\end{ExampleCode}\n",
       "\\end{Examples}"
      ],
      "text/plain": [
       "log                    package:base                    R Documentation\n",
       "\n",
       "_\bL_\bo_\bg_\ba_\br_\bi_\bt_\bh_\bm_\bs _\ba_\bn_\bd _\bE_\bx_\bp_\bo_\bn_\be_\bn_\bt_\bi_\ba_\bl_\bs\n",
       "\n",
       "_\bD_\be_\bs_\bc_\br_\bi_\bp_\bt_\bi_\bo_\bn:\n",
       "\n",
       "     ‘log’ computes logarithms, by default natural logarithms, ‘log10’\n",
       "     computes common (i.e., base 10) logarithms, and ‘log2’ computes\n",
       "     binary (i.e., base 2) logarithms.  The general form ‘log(x, base)’\n",
       "     computes logarithms with base ‘base’.\n",
       "\n",
       "     ‘log1p(x)’ computes log(1+x) accurately also for |x| << 1.\n",
       "\n",
       "     ‘exp’ computes the exponential function.\n",
       "\n",
       "     ‘expm1(x)’ computes exp(x) - 1 accurately also for |x| << 1.\n",
       "\n",
       "_\bU_\bs_\ba_\bg_\be:\n",
       "\n",
       "     log(x, base = exp(1))\n",
       "     logb(x, base = exp(1))\n",
       "     log10(x)\n",
       "     log2(x)\n",
       "     \n",
       "     log1p(x)\n",
       "     \n",
       "     exp(x)\n",
       "     expm1(x)\n",
       "     \n",
       "_\bA_\br_\bg_\bu_\bm_\be_\bn_\bt_\bs:\n",
       "\n",
       "       x: a numeric or complex vector.\n",
       "\n",
       "    base: a positive or complex number: the base with respect to which\n",
       "          logarithms are computed.  Defaults to e=‘exp(1)’.\n",
       "\n",
       "_\bD_\be_\bt_\ba_\bi_\bl_\bs:\n",
       "\n",
       "     All except ‘logb’ are generic functions: methods can be defined\n",
       "     for them individually or via the ‘Math’ group generic.\n",
       "\n",
       "     ‘log10’ and ‘log2’ are only convenience wrappers, but logs to\n",
       "     bases 10 and 2 (whether computed _via_ ‘log’ or the wrappers) will\n",
       "     be computed more efficiently and accurately where supported by the\n",
       "     OS.  Methods can be set for them individually (and otherwise\n",
       "     methods for ‘log’ will be used).\n",
       "\n",
       "     ‘logb’ is a wrapper for ‘log’ for compatibility with S.  If (S3 or\n",
       "     S4) methods are set for ‘log’ they will be dispatched.  Do not set\n",
       "     S4 methods on ‘logb’ itself.\n",
       "\n",
       "     All except ‘log’ are primitive functions.\n",
       "\n",
       "_\bV_\ba_\bl_\bu_\be:\n",
       "\n",
       "     A vector of the same length as ‘x’ containing the transformed\n",
       "     values.  ‘log(0)’ gives ‘-Inf’, and ‘log(x)’ for negative values\n",
       "     of ‘x’ is ‘NaN’.  ‘exp(-Inf)’ is ‘0’.\n",
       "\n",
       "     For complex inputs to the log functions, the value is a complex\n",
       "     number with imaginary part in the range [-pi, pi]: which end of\n",
       "     the range is used might be platform-specific.\n",
       "\n",
       "_\bS_\b4 _\bm_\be_\bt_\bh_\bo_\bd_\bs:\n",
       "\n",
       "     ‘exp’, ‘expm1’, ‘log’, ‘log10’, ‘log2’ and ‘log1p’ are S4 generic\n",
       "     and are members of the ‘Math’ group generic.\n",
       "\n",
       "     Note that this means that the S4 generic for ‘log’ has a signature\n",
       "     with only one argument, ‘x’, but that ‘base’ can be passed to\n",
       "     methods (but will not be used for method selection).  On the other\n",
       "     hand, if you only set a method for the ‘Math’ group generic then\n",
       "     ‘base’ argument of ‘log’ will be ignored for your class.\n",
       "\n",
       "_\bS_\bo_\bu_\br_\bc_\be:\n",
       "\n",
       "     ‘log1p’ and ‘expm1’ may be taken from the operating system, but if\n",
       "     not available there then they are based on the Fortran subroutine\n",
       "     ‘dlnrel’ by W. Fullerton of Los Alamos Scientific Laboratory (see\n",
       "     <URL: http://www.netlib.org/slatec/fnlib/dlnrel.f>) and (for small\n",
       "     x) a single Newton step for the solution of ‘log1p(y) = x’\n",
       "     respectively.\n",
       "\n",
       "_\bR_\be_\bf_\be_\br_\be_\bn_\bc_\be_\bs:\n",
       "\n",
       "     Becker, R. A., Chambers, J. M. and Wilks, A. R. (1988) _The New S\n",
       "     Language_.  Wadsworth & Brooks/Cole.  (for ‘log’, ‘log10’ and\n",
       "     ‘exp’.)\n",
       "\n",
       "     Chambers, J. M. (1998) _Programming with Data.  A Guide to the S\n",
       "     Language_.  Springer. (for ‘logb’.)\n",
       "\n",
       "_\bS_\be_\be _\bA_\bl_\bs_\bo:\n",
       "\n",
       "     ‘Trig’, ‘sqrt’, ‘Arithmetic’.\n",
       "\n",
       "_\bE_\bx_\ba_\bm_\bp_\bl_\be_\bs:\n",
       "\n",
       "     log(exp(3))\n",
       "     log10(1e7) # = 7\n",
       "     \n",
       "     x <- 10^-(1+2*1:9)\n",
       "     cbind(x, log(1+x), log1p(x), exp(x)-1, expm1(x))\n",
       "     "
      ]
     },
     "metadata": {},
     "output_type": "display_data"
    }
   ],
   "source": [
    "ls()  # list all objects\n",
    "help(exp)  # specific help (?exp is the same)\n",
    "getwd()  # get working directory (tells you where R is pointing)\n",
    "#setwd('C:\\\\Users')  # change working directory in windows (note double back slash)\n",
    "#setwd('/home')  # for linux, mac and windows users (note forward slash)\n",
    "#q()  # end the session (keep reading)"
   ]
  },
  {
   "cell_type": "markdown",
   "metadata": {},
   "source": [
    "**To create your own data set, you can make a data vector as follows:**"
   ]
  },
  {
   "cell_type": "code",
   "execution_count": 5,
   "metadata": {},
   "outputs": [
    {
     "data": {
      "text/html": [
       "<style>\n",
       ".list-inline {list-style: none; margin:0; padding: 0}\n",
       ".list-inline>li {display: inline-block}\n",
       ".list-inline>li:not(:last-child)::after {content: \"\\00b7\"; padding: 0 .5ex}\n",
       "</style>\n",
       "<ol class=list-inline><li>1</li><li>2</li><li>3</li><li>2</li><li>1</li></ol>\n"
      ],
      "text/latex": [
       "\\begin{enumerate*}\n",
       "\\item 1\n",
       "\\item 2\n",
       "\\item 3\n",
       "\\item 2\n",
       "\\item 1\n",
       "\\end{enumerate*}\n"
      ],
      "text/markdown": [
       "1. 1\n",
       "2. 2\n",
       "3. 3\n",
       "4. 2\n",
       "5. 1\n",
       "\n",
       "\n"
      ],
      "text/plain": [
       "[1] 1 2 3 2 1"
      ]
     },
     "metadata": {},
     "output_type": "display_data"
    },
    {
     "data": {
      "text/html": [
       "3"
      ],
      "text/latex": [
       "3"
      ],
      "text/markdown": [
       "3"
      ],
      "text/plain": [
       "[1] 3"
      ]
     },
     "metadata": {},
     "output_type": "display_data"
    },
    {
     "data": {
      "text/html": [
       "<style>\n",
       ".list-inline {list-style: none; margin:0; padding: 0}\n",
       ".list-inline>li {display: inline-block}\n",
       ".list-inline>li:not(:last-child)::after {content: \"\\00b7\"; padding: 0 .5ex}\n",
       "</style>\n",
       "<ol class=list-inline><li>3</li><li>2</li><li>1</li></ol>\n"
      ],
      "text/latex": [
       "\\begin{enumerate*}\n",
       "\\item 3\n",
       "\\item 2\n",
       "\\item 1\n",
       "\\end{enumerate*}\n"
      ],
      "text/markdown": [
       "1. 3\n",
       "2. 2\n",
       "3. 1\n",
       "\n",
       "\n"
      ],
      "text/plain": [
       "[1] 3 2 1"
      ]
     },
     "metadata": {},
     "output_type": "display_data"
    },
    {
     "data": {
      "text/html": [
       "<style>\n",
       ".list-inline {list-style: none; margin:0; padding: 0}\n",
       ".list-inline>li {display: inline-block}\n",
       ".list-inline>li:not(:last-child)::after {content: \"\\00b7\"; padding: 0 .5ex}\n",
       "</style>\n",
       "<ol class=list-inline><li>3</li><li>2</li><li>1</li></ol>\n"
      ],
      "text/latex": [
       "\\begin{enumerate*}\n",
       "\\item 3\n",
       "\\item 2\n",
       "\\item 1\n",
       "\\end{enumerate*}\n"
      ],
      "text/markdown": [
       "1. 3\n",
       "2. 2\n",
       "3. 1\n",
       "\n",
       "\n"
      ],
      "text/plain": [
       "[1] 3 2 1"
      ]
     },
     "metadata": {},
     "output_type": "display_data"
    },
    {
     "data": {
      "text/html": [
       "5"
      ],
      "text/latex": [
       "5"
      ],
      "text/markdown": [
       "5"
      ],
      "text/plain": [
       "[1] 5"
      ]
     },
     "metadata": {},
     "output_type": "display_data"
    },
    {
     "data": {
      "text/html": [
       "<style>\n",
       ".list-inline {list-style: none; margin:0; padding: 0}\n",
       ".list-inline>li {display: inline-block}\n",
       ".list-inline>li:not(:last-child)::after {content: \"\\00b7\"; padding: 0 .5ex}\n",
       "</style>\n",
       "<ol class=list-inline><li>5</li><li>1</li></ol>\n"
      ],
      "text/latex": [
       "\\begin{enumerate*}\n",
       "\\item 5\n",
       "\\item 1\n",
       "\\end{enumerate*}\n"
      ],
      "text/markdown": [
       "1. 5\n",
       "2. 1\n",
       "\n",
       "\n"
      ],
      "text/plain": [
       "[1] 5 1"
      ]
     },
     "metadata": {},
     "output_type": "display_data"
    }
   ],
   "source": [
    "mydata = c(1, 2, 3, 2, 1)  # where we have concatenated the numbers\n",
    "mydata  # display the data\n",
    "mydata[3]  # the third element\n",
    "mydata[3:5]  # elements three through five\n",
    "mydata[-(1:2)]  # everything except the first two elements\n",
    "length(mydata)  # length of elements\n",
    "mydata = as.matrix(mydata)  # make it a matrix\n",
    "dim(mydata)  # provide dimensions of matrix"
   ]
  },
  {
   "cell_type": "markdown",
   "metadata": {},
   "source": [
    "**The rule for doing arithmetic with vectors:**"
   ]
  },
  {
   "cell_type": "code",
   "execution_count": 6,
   "metadata": {},
   "outputs": [
    {
     "data": {
      "text/html": [
       "<style>\n",
       ".list-inline {list-style: none; margin:0; padding: 0}\n",
       ".list-inline>li {display: inline-block}\n",
       ".list-inline>li:not(:last-child)::after {content: \"\\00b7\"; padding: 0 .5ex}\n",
       "</style>\n",
       "<ol class=list-inline><li>2</li><li>8</li><li>18</li><li>32</li></ol>\n"
      ],
      "text/latex": [
       "\\begin{enumerate*}\n",
       "\\item 2\n",
       "\\item 8\n",
       "\\item 18\n",
       "\\item 32\n",
       "\\end{enumerate*}\n"
      ],
      "text/markdown": [
       "1. 2\n",
       "2. 8\n",
       "3. 18\n",
       "4. 32\n",
       "\n",
       "\n"
      ],
      "text/plain": [
       "[1]  2  8 18 32"
      ]
     },
     "metadata": {},
     "output_type": "display_data"
    },
    {
     "data": {
      "text/html": [
       "<style>\n",
       ".list-inline {list-style: none; margin:0; padding: 0}\n",
       ".list-inline>li {display: inline-block}\n",
       ".list-inline>li:not(:last-child)::after {content: \"\\00b7\"; padding: 0 .5ex}\n",
       "</style>\n",
       "<ol class=list-inline><li>0.1</li><li>0.1</li><li>0.3</li><li>0.2</li></ol>\n"
      ],
      "text/latex": [
       "\\begin{enumerate*}\n",
       "\\item 0.1\n",
       "\\item 0.1\n",
       "\\item 0.3\n",
       "\\item 0.2\n",
       "\\end{enumerate*}\n"
      ],
      "text/markdown": [
       "1. 0.1\n",
       "2. 0.1\n",
       "3. 0.3\n",
       "4. 0.2\n",
       "\n",
       "\n"
      ],
      "text/plain": [
       "[1] 0.1 0.1 0.3 0.2"
      ]
     },
     "metadata": {},
     "output_type": "display_data"
    },
    {
     "data": {
      "text/html": [
       "<style>\n",
       ".list-inline {list-style: none; margin:0; padding: 0}\n",
       ".list-inline>li {display: inline-block}\n",
       ".list-inline>li:not(:last-child)::after {content: \"\\00b7\"; padding: 0 .5ex}\n",
       "</style>\n",
       "<ol class=list-inline><li>11</li><li>22</li><li>13</li><li>24</li></ol>\n"
      ],
      "text/latex": [
       "\\begin{enumerate*}\n",
       "\\item 11\n",
       "\\item 22\n",
       "\\item 13\n",
       "\\item 24\n",
       "\\end{enumerate*}\n"
      ],
      "text/markdown": [
       "1. 11\n",
       "2. 22\n",
       "3. 13\n",
       "4. 24\n",
       "\n",
       "\n"
      ],
      "text/plain": [
       "[1] 11 22 13 24"
      ]
     },
     "metadata": {},
     "output_type": "display_data"
    },
    {
     "data": {
      "text/html": [
       "<table>\n",
       "<caption>A matrix: 1 × 1 of type dbl</caption>\n",
       "<tbody>\n",
       "\t<tr><td>60</td></tr>\n",
       "</tbody>\n",
       "</table>\n"
      ],
      "text/latex": [
       "A matrix: 1 × 1 of type dbl\n",
       "\\begin{tabular}{l}\n",
       "\t 60\\\\\n",
       "\\end{tabular}\n"
      ],
      "text/markdown": [
       "\n",
       "A matrix: 1 × 1 of type dbl\n",
       "\n",
       "| 60 |\n",
       "\n"
      ],
      "text/plain": [
       "     [,1]\n",
       "[1,] 60  "
      ]
     },
     "metadata": {},
     "output_type": "display_data"
    }
   ],
   "source": [
    "x = c(1, 2, 3, 4)\n",
    "y = c(2, 4, 6, 8)\n",
    "z = c(10, 20)\n",
    "x * y  # i.e. 1*2, 2*4, 3*6, 4*8\n",
    "x / z  # i.e. 1/10, 2/20, 3/10, 4/20\n",
    "x + z  # i.e. 1+10, 2+20, 3+10, 4+20\n",
    "x %*% y  # matrix multiplication"
   ]
  },
  {
   "cell_type": "markdown",
   "metadata": {},
   "source": [
    "## Basic loops"
   ]
  },
  {
   "cell_type": "code",
   "execution_count": 7,
   "metadata": {},
   "outputs": [
    {
     "name": "stdout",
     "output_type": "stream",
     "text": [
      "[1] \"Execute model number 1\"\n",
      "[1] \"Execute model number 2\"\n",
      "[1] \"Execute model number 3\"\n",
      "[1] \"Execute model number 4\"\n",
      "[1] 1\n",
      "[1] 2\n",
      "[1] 3\n",
      "[1] 4\n",
      "[1] 5\n"
     ]
    }
   ],
   "source": [
    "for (id1 in 1:4){\n",
    "  print(paste(\"Execute model number\", id1))\n",
    "}  # for loops are the most common\n",
    "\n",
    "id2 <- 1\n",
    "while (id2 < 6) {\n",
    "  print(id2)\n",
    "  id2 = id2 + 1\n",
    "}  # while loops can be used as an alternative"
   ]
  },
  {
   "cell_type": "markdown",
   "metadata": {},
   "source": [
    "**The else statement could be used to execute dependent arguments:**"
   ]
  },
  {
   "cell_type": "code",
   "execution_count": 8,
   "metadata": {},
   "outputs": [
    {
     "name": "stdout",
     "output_type": "stream",
     "text": [
      "[1] \"Negative number\"\n"
     ]
    }
   ],
   "source": [
    "x <- -5  # to test if this is positive or negative\n",
    "\n",
    "if (x == 0) {\n",
    "  print(\"Zero\")\n",
    "} else if (x > 0) {\n",
    "  print(\"Positive number\")\n",
    "} else {\n",
    "  print(\"Negative number\")\n",
    "}\n"
   ]
  },
  {
   "cell_type": "markdown",
   "metadata": {},
   "source": [
    "**One could also vectorise the code and use `sapply` or `tidyverse::map` function to make code run quicker. Additional details regarding the `tidyverse` will follow.**"
   ]
  },
  {
   "cell_type": "markdown",
   "metadata": {},
   "source": [
    "## Simulating regression data"
   ]
  },
  {
   "cell_type": "code",
   "execution_count": 9,
   "metadata": {},
   "outputs": [
    {
     "data": {
      "image/png": "[encoded data removed]",
      "text/plain": [
       "plot without title"
      ]
     },
     "metadata": {
      "image/png": {
       "height": 420,
       "width": 420
      }
     },
     "output_type": "display_data"
    },
    {
     "data": {
      "image/png": "[encoded data removed]",
      "text/plain": [
       "plot without title"
      ]
     },
     "metadata": {
      "image/png": {
       "height": 420,
       "width": 420
      }
     },
     "output_type": "display_data"
    }
   ],
   "source": [
    "n <- 50  # number of observations\n",
    "x <- seq(1, n)  # right-hand side variable\n",
    "y <- 3 + x + rnorm(n)  # left-hand side variable\n",
    "\n",
    "plot(x, y)  # show the linear relationship between the variables\n",
    "plot.ts(y)  # plot time series"
   ]
  },
  {
   "cell_type": "markdown",
   "metadata": {},
   "source": [
    "**To estimate a linear regression model:**"
   ]
  },
  {
   "cell_type": "code",
   "execution_count": 10,
   "metadata": {},
   "outputs": [
    {
     "data": {
      "text/plain": [
       "\n",
       "Call:\n",
       "lm(formula = y ~ x - 1)\n",
       "\n",
       "Residuals:\n",
       "    Min      1Q  Median      3Q     Max \n",
       "-2.3243 -0.6700  0.7597  2.1958  5.0476 \n",
       "\n",
       "Coefficients:\n",
       "  Estimate Std. Error t value Pr(>|t|)    \n",
       "x 1.081881   0.009913   109.1   <2e-16 ***\n",
       "---\n",
       "Signif. codes:  0 ‘***’ 0.001 ‘**’ 0.01 ‘*’ 0.05 ‘.’ 0.1 ‘ ’ 1\n",
       "\n",
       "Residual standard error: 2.054 on 49 degrees of freedom\n",
       "Multiple R-squared:  0.9959,\tAdjusted R-squared:  0.9958 \n",
       "F-statistic: 1.191e+04 on 1 and 49 DF,  p-value: < 2.2e-16\n"
      ]
     },
     "metadata": {},
     "output_type": "display_data"
    }
   ],
   "source": [
    "out1 <- lm(y ~ x - 1)  # regress x on y without constant\n",
    "summary(out1)  # generate output"
   ]
  },
  {
   "cell_type": "markdown",
   "metadata": {},
   "source": [
    "## Working with real data"
   ]
  },
  {
   "cell_type": "code",
   "execution_count": 12,
   "metadata": {},
   "outputs": [
    {
     "data": {
      "text/plain": [
       "\n",
       "Call:\n",
       "lm(formula = data$y ~ data$k)\n",
       "\n",
       "Residuals:\n",
       "     Min       1Q   Median       3Q      Max \n",
       "-0.51371 -0.23632  0.06197  0.25068  0.40872 \n",
       "\n",
       "Coefficients:\n",
       "            Estimate Std. Error t value Pr(>|t|)    \n",
       "(Intercept)  0.63668    0.09998   6.368 2.88e-07 ***\n",
       "data$k      -0.14167    0.17601  -0.805    0.426    \n",
       "---\n",
       "Signif. codes:  0 ‘***’ 0.001 ‘**’ 0.01 ‘*’ 0.05 ‘.’ 0.1 ‘ ’ 1\n",
       "\n",
       "Residual standard error: 0.3093 on 34 degrees of freedom\n",
       "Multiple R-squared:  0.0187,\tAdjusted R-squared:  -0.01016 \n",
       "F-statistic: 0.6479 on 1 and 34 DF,  p-value: 0.4265\n"
      ]
     },
     "metadata": {},
     "output_type": "display_data"
    }
   ],
   "source": [
    "rm(list = ls())  # clear data\n",
    "graphics.off()  # close graphs\n",
    "#setwd('C:\\\\TimeSeries\\\\1_intro\\\\tut1')\n",
    "setwd('/home/kevin/git/tsm/ts-1-tut/T1-intro-R')\n",
    "data <- read.csv(file = \"data.csv\")  # read in csv data"
   ]
  },
  {
   "cell_type": "markdown",
   "metadata": {},
   "source": [
    "**To view the data**"
   ]
  },
  {
   "cell_type": "code",
   "execution_count": 15,
   "metadata": {},
   "outputs": [
    {
     "data": {
      "text/html": [
       "<table>\n",
       "<caption>A data.frame: 6 × 4</caption>\n",
       "<thead>\n",
       "\t<tr><th></th><th scope=col>date</th><th scope=col>y</th><th scope=col>n</th><th scope=col>k</th></tr>\n",
       "\t<tr><th></th><th scope=col>&lt;chr&gt;</th><th scope=col>&lt;dbl&gt;</th><th scope=col>&lt;dbl&gt;</th><th scope=col>&lt;dbl&gt;</th></tr>\n",
       "</thead>\n",
       "<tbody>\n",
       "\t<tr><th scope=row>1</th><td>1970/01/01</td><td>0.17629729</td><td>0.4528161</td><td>0.02616917</td></tr>\n",
       "\t<tr><th scope=row>2</th><td>1970/02/01</td><td>0.91596638</td><td>0.2173568</td><td>0.18978135</td></tr>\n",
       "\t<tr><th scope=row>3</th><td>1970/03/01</td><td>0.09731011</td><td>0.3283426</td><td>0.43469206</td></tr>\n",
       "\t<tr><th scope=row>4</th><td>1970/04/01</td><td>0.61467140</td><td>0.1382754</td><td>0.17051475</td></tr>\n",
       "\t<tr><th scope=row>5</th><td>1970/05/01</td><td>0.63274885</td><td>0.7432533</td><td>0.10929770</td></tr>\n",
       "\t<tr><th scope=row>6</th><td>1970/06/01</td><td>0.15344742</td><td>0.6837156</td><td>0.19734722</td></tr>\n",
       "</tbody>\n",
       "</table>\n"
      ],
      "text/latex": [
       "A data.frame: 6 × 4\n",
       "\\begin{tabular}{r|llll}\n",
       "  & date & y & n & k\\\\\n",
       "  & <chr> & <dbl> & <dbl> & <dbl>\\\\\n",
       "\\hline\n",
       "\t1 & 1970/01/01 & 0.17629729 & 0.4528161 & 0.02616917\\\\\n",
       "\t2 & 1970/02/01 & 0.91596638 & 0.2173568 & 0.18978135\\\\\n",
       "\t3 & 1970/03/01 & 0.09731011 & 0.3283426 & 0.43469206\\\\\n",
       "\t4 & 1970/04/01 & 0.61467140 & 0.1382754 & 0.17051475\\\\\n",
       "\t5 & 1970/05/01 & 0.63274885 & 0.7432533 & 0.10929770\\\\\n",
       "\t6 & 1970/06/01 & 0.15344742 & 0.6837156 & 0.19734722\\\\\n",
       "\\end{tabular}\n"
      ],
      "text/markdown": [
       "\n",
       "A data.frame: 6 × 4\n",
       "\n",
       "| <!--/--> | date &lt;chr&gt; | y &lt;dbl&gt; | n &lt;dbl&gt; | k &lt;dbl&gt; |\n",
       "|---|---|---|---|---|\n",
       "| 1 | 1970/01/01 | 0.17629729 | 0.4528161 | 0.02616917 |\n",
       "| 2 | 1970/02/01 | 0.91596638 | 0.2173568 | 0.18978135 |\n",
       "| 3 | 1970/03/01 | 0.09731011 | 0.3283426 | 0.43469206 |\n",
       "| 4 | 1970/04/01 | 0.61467140 | 0.1382754 | 0.17051475 |\n",
       "| 5 | 1970/05/01 | 0.63274885 | 0.7432533 | 0.10929770 |\n",
       "| 6 | 1970/06/01 | 0.15344742 | 0.6837156 | 0.19734722 |\n",
       "\n"
      ],
      "text/plain": [
       "  date       y          n         k         \n",
       "1 1970/01/01 0.17629729 0.4528161 0.02616917\n",
       "2 1970/02/01 0.91596638 0.2173568 0.18978135\n",
       "3 1970/03/01 0.09731011 0.3283426 0.43469206\n",
       "4 1970/04/01 0.61467140 0.1382754 0.17051475\n",
       "5 1970/05/01 0.63274885 0.7432533 0.10929770\n",
       "6 1970/06/01 0.15344742 0.6837156 0.19734722"
      ]
     },
     "metadata": {},
     "output_type": "display_data"
    }
   ],
   "source": [
    "head(data)"
   ]
  },
  {
   "cell_type": "code",
   "execution_count": 16,
   "metadata": {},
   "outputs": [
    {
     "data": {
      "text/plain": [
       "\n",
       "Call:\n",
       "lm(formula = data$y ~ data$k)\n",
       "\n",
       "Residuals:\n",
       "     Min       1Q   Median       3Q      Max \n",
       "-0.51371 -0.23632  0.06197  0.25068  0.40872 \n",
       "\n",
       "Coefficients:\n",
       "            Estimate Std. Error t value Pr(>|t|)    \n",
       "(Intercept)  0.63668    0.09998   6.368 2.88e-07 ***\n",
       "data$k      -0.14167    0.17601  -0.805    0.426    \n",
       "---\n",
       "Signif. codes:  0 ‘***’ 0.001 ‘**’ 0.01 ‘*’ 0.05 ‘.’ 0.1 ‘ ’ 1\n",
       "\n",
       "Residual standard error: 0.3093 on 34 degrees of freedom\n",
       "Multiple R-squared:  0.0187,\tAdjusted R-squared:  -0.01016 \n",
       "F-statistic: 0.6479 on 1 and 34 DF,  p-value: 0.4265\n"
      ]
     },
     "metadata": {},
     "output_type": "display_data"
    }
   ],
   "source": [
    "out2 <- lm(data$y ~ data$k)  # estimation a linear regression model\n",
    "summary(out2)  # generate output"
   ]
  },
  {
   "cell_type": "markdown",
   "metadata": {},
   "source": [
    "## Using packages"
   ]
  },
  {
   "cell_type": "markdown",
   "metadata": {},
   "source": [
    "**To install and use the functions within a package that is located on the CRAN repository:**"
   ]
  },
  {
   "cell_type": "code",
   "execution_count": 18,
   "metadata": {},
   "outputs": [
    {
     "name": "stderr",
     "output_type": "stream",
     "text": [
      "Installing package into ‘/home/kevin/R/x86_64-pc-linux-gnu-library/4.0’\n",
      "(as ‘lib’ is unspecified)\n",
      "\n",
      "Loading required package: zoo\n",
      "\n",
      "\n",
      "Attaching package: ‘zoo’\n",
      "\n",
      "\n",
      "The following objects are masked from ‘package:base’:\n",
      "\n",
      "    as.Date, as.Date.numeric\n",
      "\n",
      "\n",
      "Loading required package: sandwich\n",
      "\n"
     ]
    },
    {
     "data": {
      "text/plain": [
       "\n",
       "\t Optimal 2-segment partition: \n",
       "\n",
       "Call:\n",
       "breakpoints.Fstats(obj = break_y)\n",
       "\n",
       "Breakpoints at observation number:\n",
       "25 \n",
       "\n",
       "Corresponding to breakdates:\n",
       "0.6666667 "
      ]
     },
     "metadata": {},
     "output_type": "display_data"
    }
   ],
   "source": [
    "install.packages('strucchange') # to download the package from CRAN\n",
    "library('strucchange') # to access the routines in this package\n",
    "break_y <- Fstats(data$y ~ 1) # F statistics indicate one breakpoint\n",
    "breakpoints(break_y)"
   ]
  },
  {
   "cell_type": "markdown",
   "metadata": {},
   "source": [
    "**When making use of multiple packages within a single script and they have a name conflict then use the syntax `<package>::<routine>`. For example:**"
   ]
  },
  {
   "cell_type": "code",
   "execution_count": 19,
   "metadata": {},
   "outputs": [
    {
     "data": {
      "text/plain": [
       "\n",
       "\t Optimal 2-segment partition: \n",
       "\n",
       "Call:\n",
       "breakpoints.Fstats(obj = break_y)\n",
       "\n",
       "Breakpoints at observation number:\n",
       "25 \n",
       "\n",
       "Corresponding to breakdates:\n",
       "0.6666667 "
      ]
     },
     "metadata": {},
     "output_type": "display_data"
    }
   ],
   "source": [
    "break_y <- strucchange::Fstats(data$y ~ 1) # F statistics indicate breakpoint at observation 25\n",
    "strucchange::breakpoints(break_y)"
   ]
  },
  {
   "cell_type": "code",
   "execution_count": null,
   "metadata": {},
   "outputs": [],
   "source": []
  }
 ],
 "metadata": {
  "kernelspec": {
   "display_name": "R",
   "language": "R",
   "name": "ir"
  },
  "language_info": {
   "codemirror_mode": "r",
   "file_extension": ".r",
   "mimetype": "text/x-r-source",
   "name": "R",
   "pygments_lexer": "r",
   "version": "4.0.2"
  }
 },
 "nbformat": 4,
 "nbformat_minor": 4
}
